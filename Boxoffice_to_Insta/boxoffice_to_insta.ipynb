{
 "cells": [
  {
   "cell_type": "code",
   "execution_count": null,
   "metadata": {},
   "outputs": [],
   "source": [
    "from boxoffice_image import *\n",
    "from boxoffice_text import *\n",
    "\n",
    "from instagrapi import Client\n",
    "import os\n",
    "import time"
   ]
  },
  {
   "cell_type": "code",
   "execution_count": null,
   "metadata": {},
   "outputs": [],
   "source": [
    "weekly_boxoffice = get_weekly_boxoffice()\n",
    "movie_list = list(weekly_boxoffice.keys())\n",
    "\n",
    "cnt = 1\n",
    "for i in movie_list:\n",
    "    get_image(i)\n",
    "    watches = weekly_boxoffice[i][1]\n",
    "    tot_watches = weekly_boxoffice[i][2]\n",
    "    insta_boxoffice(i, watches, tot_watches, cnt)\n",
    "    cnt += 1\n",
    "\n",
    "make_list_page(movie_list[0:5], 'z0')\n",
    "make_list_page(movie_list[5:10], 'z1')\n",
    "\n",
    "add_date = time.strftime('%Y%m%d')\n",
    "image_folder = f'image/insta_{add_date}'\n",
    "image_paths = [os.path.join(image_folder, f) for f in os.listdir(image_folder) if f.endswith(('.png', '.jpg', '.jpeg'))][0:4]\n",
    "output_path = f\"image/insta_{add_date}/00_instagram_grid.jpg\"\n",
    "create_instagram_grid(image_paths, output_path)\n",
    "\n",
    "image_paths = [os.path.join(image_folder, f) for f in os.listdir(image_folder) if f.endswith(('.png', '.jpg', '.jpeg'))][5:9]\n",
    "output_path = f\"image/insta_{add_date}/01_instagram_grid.jpg\"\n",
    "create_instagram_grid(image_paths, output_path)\n",
    "\n",
    "image_paths = [os.path.join(image_folder, f) for f in os.listdir(image_folder) if f.endswith(('.png', '.jpg', '.jpeg'))][2:10]\n",
    "for filename in image_paths:\n",
    "    try:\n",
    "        os.unlink(filename)\n",
    "    except Exception as e:\n",
    "        print(f\"파일 {filename} 삭제 중 오류 발생: {e}\")\n",
    "\n",
    "make_first_page()\n"
   ]
  },
  {
   "cell_type": "code",
   "execution_count": null,
   "metadata": {},
   "outputs": [],
   "source": [
    "# 인스타 게시물 업로드 \n",
    "id = \"your id\"\n",
    "pw = \"your password\"\n",
    "\n",
    "# 1. 인스타그램 로그인\n",
    "cl = Client()\n",
    "cl.login(id, pw)  # 계정 정보 입력\n",
    "\n",
    "# 이미지가 있는 폴더 경로\n",
    "add_date = time.strftime('%Y%m%d')\n",
    "base_dir = os.getcwd()\n",
    "image_folder = os.path.join(base_dir, 'image', f'insta_{add_date}')\n",
    "\n",
    "\n",
    "# 폴더에서 이미지 파일 목록 가져오기\n",
    "image_files = [f for f in os.listdir(image_folder) if f.endswith(('.jpg'))]\n",
    "image_paths = []\n",
    "\n",
    "for i in image_files:\n",
    "    img = os.path.join(base_dir, 'image', f'insta_{add_date}',i)\n",
    "    image_paths.append(img)\n",
    "\n",
    "\n",
    "# 포스트 캡션\n",
    "caption = write_text(weekly_boxoffice)\n",
    "\n",
    "# 업로드 (리스트 순서대로)\n",
    "try:\n",
    "    cl.album_upload(image_paths, caption)\n",
    "    print(\"게시물 업로드가 완료되었습니다!\")\n",
    "except Exception as e:\n",
    "    print(f\"업로드 실패: {e}\")\n"
   ]
  }
 ],
 "metadata": {
  "kernelspec": {
   "display_name": "fp",
   "language": "python",
   "name": "python3"
  },
  "language_info": {
   "name": "python",
   "version": "3.11.11"
  }
 },
 "nbformat": 4,
 "nbformat_minor": 2
}
