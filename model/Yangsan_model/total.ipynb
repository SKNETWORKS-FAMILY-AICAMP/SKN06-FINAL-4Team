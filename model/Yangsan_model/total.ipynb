{
 "cells": [
  {
   "cell_type": "code",
   "execution_count": null,
   "metadata": {
    "collapsed": true,
    "jupyter": {
     "outputs_hidden": true
    }
   },
   "outputs": [],
   "source": [
    "# %pip install -U sentence-transformers\n",
    "# %pip install --upgrade openai\n",
    "# %pip install -U jupyterlab"
   ]
  },
  {
   "cell_type": "code",
   "execution_count": 1,
   "metadata": {},
   "outputs": [
    {
     "name": "stderr",
     "output_type": "stream",
     "text": [
      "c:\\Users\\Playdata\\miniconda3\\envs\\pjt\\Lib\\site-packages\\tqdm\\auto.py:21: TqdmWarning: IProgress not found. Please update jupyter and ipywidgets. See https://ipywidgets.readthedocs.io/en/stable/user_install.html\n",
      "  from .autonotebook import tqdm as notebook_tqdm\n"
     ]
    },
    {
     "name": "stdout",
     "output_type": "stream",
     "text": [
      "WARNING:tensorflow:From c:\\Users\\Playdata\\miniconda3\\envs\\pjt\\Lib\\site-packages\\tf_keras\\src\\losses.py:2976: The name tf.losses.sparse_softmax_cross_entropy is deprecated. Please use tf.compat.v1.losses.sparse_softmax_cross_entropy instead.\n",
      "\n"
     ]
    },
    {
     "name": "stderr",
     "output_type": "stream",
     "text": [
      "c:\\Users\\Playdata\\miniconda3\\envs\\pjt\\Lib\\site-packages\\sentence_transformers\\SentenceTransformer.py:195: FutureWarning: The `use_auth_token` argument is deprecated and will be removed in v4 of SentenceTransformers.\n",
      "  warnings.warn(\n"
     ]
    }
   ],
   "source": [
    "import json\n",
    "from search_model import *\n",
    "from instagram_post import *\n",
    "from templates import *\n",
    "from image_crawling import *\n",
    "from utils import delete_all_files_in_folder"
   ]
  },
  {
   "cell_type": "code",
   "execution_count": 2,
   "metadata": {},
   "outputs": [
    {
     "name": "stdout",
     "output_type": "stream",
     "text": [
      "Deleted: images\\해리포터와 마법사의 돌_poster.jpg\n",
      "Deleted: images\\해리포터와 마법사의 돌_stillcut.jpg\n",
      "Deleted: images\\해리포터와 비밀의 방_poster.jpg\n",
      "Deleted: images\\해리포터와 비밀의 방_stillcut.jpg\n",
      "\n",
      "[INFO] STEP 1: 사용자 질문 분석 중...\n",
      "[INFO] GPT 응답: ```json\n",
      "{\n",
      "    \"장르\": [\"판타지\", \"모험\", \"가족\"],\n",
      "    \"분위기\": [\"마법적인\", \"신비로운\", \"모험심을 자극하는\"],\n",
      "    \"키워드\": [\"마법\", \"호그와트\", \"마법사\"],\n",
      "    \"감독\": \"크리스 콜럼버스, 데이빗 예이츠, 알폰소 쿠아론, 마이크 뉴웰\",\n",
      "    \"주연\": \"다니엘 래드클리프, 엠마 왓슨, 루퍼트 그린트\",\n",
      "    \"핵심 키워드\": []\n",
      "}\n",
      "```\n",
      "\n",
      "[INFO] STEP 2: 영화 검색 진행 중...\n",
      "[INFO] 기존 FAISS 인덱스 로드 중...\n",
      "\n",
      "[INFO] STEP 3: 추천 영화 선택 중...\n",
      "\n",
      "❌ 추천할 영화가 없습니다.\n"
     ]
    }
   ],
   "source": [
    "# 이미지 폴더 정리\n",
    "delete_all_files_in_folder(\"images\")\n",
    "delete_all_files_in_folder(\"insta_post\")\n",
    "\n",
    "# ✅ 통합 파이프라인 실행\n",
    "if __name__ == \"__main__\":\n",
    "    user_question = input(\"🎬 영화 추천 질문을 입력하세요: \")\n",
    "    max_results = int(input(\"🔢 추천받을 영화 개수를 입력하세요 (예: 5): \"))\n",
    "\n",
    "    print(\"\\n[INFO] STEP 1: 사용자 질문 분석 중...\")\n",
    "    expanded_keywords = analyze_question_with_llm(user_question)\n",
    "    \n",
    "    print(\"\\n[INFO] STEP 2: 영화 검색 진행 중...\")\n",
    "    search_results = search_movies_with_keywords(expanded_keywords)\n",
    "\n",
    "    print(\"\\n[INFO] STEP 3: 추천 영화 선택 중...\")\n",
    "    recommended_movies = generate_recommendations(user_question, search_results, max_results=max_results)\n",
    "\n",
    "    if not recommended_movies:\n",
    "        print(\"\\n❌ 추천할 영화가 없습니다.\")\n",
    "    else:\n",
    "        print(\"\\n🎬 최종 추천 영화 리스트:\", recommended_movies)\n",
    "\n",
    "        print(\"\\n[INFO] STEP 4: 인스타그램 게시물 생성 중...\")\n",
    "        post_result = generate_instagram_post(recommended_movies)\n",
    "\n",
    "        # 결과 저장\n",
    "        with open(\"instagram_post_result.json\", \"w\", encoding=\"utf-8\") as f:\n",
    "            json.dump(post_result, f, ensure_ascii=False, indent=4)\n",
    "\n",
    "        print(\"\\n✅ 게시물 생성 완료! 결과가 instagram_post_result.json에 저장되었습니다.\")\n",
    "\n",
    "        print(\"\\n📷 STEP 5: 인스타그램 게시물 이미지 크롤링 중...\")\n",
    "        save_movie_images(recommended_movies)\n",
    "\n",
    "        print(\"\\n ✍️ STEP 6: 인스타그램 게시물 이미지 생성 중...\")\n",
    "        movie_post_list = find_review_data('instagram_post_result.json')\n",
    "        # 카드뉴스 이미지 생성\n",
    "        for movie_name, tagline in movie_post_list:\n",
    "            insta_post_1(movie_name, tagline)\n",
    "            print(f\"🎬 현재 생성 중인 영화: {movie_name}, 태그라인: {tagline}\")\n",
    "        # 게시물 대문 생성\n",
    "        door_title = find_title_data('instagram_post_result.json')\n",
    "        create_post_door(door_title, \"images\")\n",
    "        \n",
    "        print(\"\\n✅ 게시물 생성 완료! 결과가 insta_post 폴더에 저장되었습니다.\")\n"
   ]
  }
 ],
 "metadata": {
  "kernelspec": {
   "display_name": "pjt",
   "language": "python",
   "name": "python3"
  },
  "language_info": {
   "codemirror_mode": {
    "name": "ipython",
    "version": 3
   },
   "file_extension": ".py",
   "mimetype": "text/x-python",
   "name": "python",
   "nbconvert_exporter": "python",
   "pygments_lexer": "ipython3",
   "version": "3.12.8"
  }
 },
 "nbformat": 4,
 "nbformat_minor": 4
}
