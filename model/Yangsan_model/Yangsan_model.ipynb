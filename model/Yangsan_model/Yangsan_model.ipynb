{
 "cells": [
  {
   "cell_type": "code",
   "execution_count": 1,
   "metadata": {},
   "outputs": [
    {
     "name": "stderr",
     "output_type": "stream",
     "text": [
      "c:\\Users\\Playdata\\AppData\\Local\\miniconda3\\envs\\middle\\Lib\\site-packages\\tqdm\\auto.py:21: TqdmWarning: IProgress not found. Please update jupyter and ipywidgets. See https://ipywidgets.readthedocs.io/en/stable/user_install.html\n",
      "  from .autonotebook import tqdm as notebook_tqdm\n",
      "c:\\Users\\Playdata\\AppData\\Local\\miniconda3\\envs\\middle\\Lib\\site-packages\\sentence_transformers\\SentenceTransformer.py:195: FutureWarning: The `use_auth_token` argument is deprecated and will be removed in v4 of SentenceTransformers.\n",
      "  warnings.warn(\n"
     ]
    }
   ],
   "source": [
    "import sys\n",
    "sys.path.append(\"custom_utils\")\n",
    "\n",
    "import json\n",
    "from search_model import *\n",
    "from templates import *\n",
    "from instagram_post import *\n",
    "from utils import delete_all_files_in_folder, poster_to_background_images"
   ]
  },
  {
   "cell_type": "code",
   "execution_count": 5,
   "metadata": {},
   "outputs": [
    {
     "name": "stdout",
     "output_type": "stream",
     "text": [
      "\n",
      "[INFO] STEP 1: 사용자 질문 분석 중...\n",
      "[INFO] GPT 응답: ```json\n",
      "{\n",
      "    \"장르\": [\"드라마\", \"로맨스\", \"미스터리\"],\n",
      "    \"분위기\": [\"감성적인\", \"서정적인\", \"우울한\"],\n",
      "    \"키워드\": [\"비\", \"우산\", \"고독\", \"기억\", \"회상\"],\n",
      "    \"제외할 키워드\": [\"코미디\", \"폭력\", \"액션\", \"공포\", \"잔인한\"],\n",
      "    \"핵심 키워드\": [\"비\"]\n",
      "}\n",
      "```\n",
      "\n",
      "[INFO] STEP 2: 영화 검색 진행 중...\n",
      "[INFO] 기존 FAISS 인덱스 로드 중...\n",
      "[INFO] 최종 검색된 영화 개수: 71\n",
      "\n",
      "[INFO] STEP 3: 추천 영화 선택 중...\n",
      "\n",
      "🎬 최종 추천 영화 리스트: ['비의도적 연애담 스페셜', '바비', '일주일 그리고 하루', '랜드', '부력', '아버지와 이토 씨', '정말 먼 곳', '베이비티스']\n",
      "\n",
      "[INFO] STEP 4: 인스타그램 게시물 생성 중...\n",
      "\n",
      "✅ 게시물 생성 완료! 결과가 instagram_post_result.json에 저장되었습니다.\n",
      "\n",
      "📷 STEP 5: 인스타그램 게시물 이미지 찾는 중...\n",
      "✅ 파일 복사 완료: posters_db\\비의도적 연애담 스페셜_poster.jpg → background_images\\비의도적 연애담 스페셜_poster.jpg\n",
      "✅ 파일 복사 완료: posters_db\\바비_poster.jpg → background_images\\바비_poster.jpg\n",
      "✅ 파일 복사 완료: posters_db\\일주일 그리고 하루_poster.jpg → background_images\\일주일 그리고 하루_poster.jpg\n",
      "✅ 파일 복사 완료: posters_db\\랜드_poster.jpg → background_images\\랜드_poster.jpg\n",
      "✅ 파일 복사 완료: posters_db\\부력_poster.jpg → background_images\\부력_poster.jpg\n",
      "✅ 파일 복사 완료: posters_db\\아버지와 이토 씨_poster.jpg → background_images\\아버지와 이토 씨_poster.jpg\n",
      "✅ 파일 복사 완료: posters_db\\정말 먼 곳_poster.jpg → background_images\\정말 먼 곳_poster.jpg\n",
      "✅ 파일 복사 완료: posters_db\\베이비티스_poster.jpg → background_images\\베이비티스_poster.jpg\n",
      "🎉 모든 파일 복사 완료!\n",
      "\n",
      " ✍️ STEP 6: 인스타그램 게시물 이미지 생성 중...\n",
      "✅ 카드뉴스 이미지 저장 완료: insta_post/1비의도적 연애담 스페셜_card_news.jpg\n",
      "🎬 현재 생성 중인 영화: 비의도적 연애담 스페셜, 태그라인: 거짓말로 시작해 진심으로 향하는 두 남자의 특별한 로맨스.\n",
      "✅ 카드뉴스 이미지 저장 완료: insta_post/1바비_card_news.jpg\n",
      "🎬 현재 생성 중인 영화: 바비, 태그라인: 바비랜드와 현실 세계를 오가는, 꿈과 모험의 여정.\n",
      "✅ 카드뉴스 이미지 저장 완료: insta_post/1일주일 그리고 하루_card_news.jpg\n",
      "🎬 현재 생성 중인 영화: 일주일 그리고 하루, 태그라인: 애도의 시간을 통해 슬픔과 삶을 재발견하는 블랙코미디.\n",
      "✅ 카드뉴스 이미지 저장 완료: insta_post/1랜드_card_news.jpg\n",
      "🎬 현재 생성 중인 영화: 랜드, 태그라인: 고독과 자연 속에서 자신을 재발견하는 여성의 귀향.\n",
      "✅ 카드뉴스 이미지 저장 완료: insta_post/1부력_card_news.jpg\n",
      "🎬 현재 생성 중인 영화: 부력, 태그라인: 잔혹한 현실 속에서도 희망을 찾는 소년의 생존기.\n",
      "✅ 카드뉴스 이미지 저장 완료: insta_post/1아버지와 이토 씨_card_news.jpg\n",
      "🎬 현재 생성 중인 영화: 아버지와 이토 씨, 태그라인: 예기치 않게 함께하는 가족의 코끝 찡한 시트콤.\n",
      "✅ 카드뉴스 이미지 저장 완료: insta_post/1정말 먼 곳_card_news.jpg\n",
      "🎬 현재 생성 중인 영화: 정말 먼 곳, 태그라인: 안식처를 찾던 남자가 의도치 않게 맞이하는 변화.\n",
      "✅ 카드뉴스 이미지 저장 완료: insta_post/1베이비티스_card_news.jpg\n",
      "🎬 현재 생성 중인 영화: 베이비티스, 태그라인: 삶의 고난 속에서 만난 첫사랑, 그 시작의 설렘.\n",
      "\n",
      "✅ 게시물 생성 완료! 결과가 insta_post 폴더에 저장되었습니다.\n"
     ]
    }
   ],
   "source": [
    "# 이미지 폴더 정리\n",
    "delete_all_files_in_folder(\"background_images\")\n",
    "delete_all_files_in_folder(\"insta_post\")\n",
    "\n",
    "# ✅ 통합 파이프라인 실행\n",
    "if __name__ == \"__main__\":\n",
    "    user_question = input(\"🎬 영화 추천 질문을 입력하세요: \")\n",
    "    max_results = int(input(\"🔢 추천받을 영화 개수를 입력하세요 (예: 5): \"))\n",
    "\n",
    "    print(\"\\n[INFO] STEP 1: 사용자 질문 분석 중...\")\n",
    "    expanded_keywords = analyze_question_with_llm(user_question)\n",
    "    \n",
    "    print(\"\\n[INFO] STEP 2: 영화 검색 진행 중...\")\n",
    "    search_results = search_movies_with_keywords(expanded_keywords)\n",
    "\n",
    "    print(\"\\n[INFO] STEP 3: 추천 영화 선택 중...\")\n",
    "    recommended_movies = generate_recommendations(user_question, search_results, max_results=max_results)\n",
    "    # print(recommended_movies)\n",
    "    # print(type(recommended_movies))\n",
    "\n",
    "    if not recommended_movies:\n",
    "        print(\"\\n❌ 추천할 영화가 없습니다.\")\n",
    "    else:\n",
    "        print(\"\\n🎬 최종 추천 영화 리스트:\", recommended_movies)\n",
    "\n",
    "        print(\"\\n[INFO] STEP 4: 인스타그램 게시물 생성 중...\")\n",
    "        post_result = generate_instagram_post(user_question, recommended_movies)\n",
    "\n",
    "        # 결과 저장\n",
    "        with open(\"instagram_post_result.json\", \"w\", encoding=\"utf-8\") as f:\n",
    "            json.dump(post_result, f, ensure_ascii=False, indent=4)\n",
    "\n",
    "        print(\"\\n✅ 게시물 생성 완료! 결과가 instagram_post_result.json에 저장되었습니다.\")\n",
    "\n",
    "        print(\"\\n📷 STEP 5: 인스타그램 게시물 이미지 찾는 중...\")\n",
    "        poster_to_background_images(recommended_movies)\n",
    "\n",
    "        print(\"\\n ✍️ STEP 6: 인스타그램 게시물 이미지 생성 중...\")\n",
    "        movie_post_list = find_review_data('instagram_post_result.json')\n",
    "        # 카드뉴스 이미지 생성\n",
    "        for movie_name, tagline in movie_post_list:\n",
    "            insta_post_1(movie_name, tagline)\n",
    "            print(f\"🎬 현재 생성 중인 영화: {movie_name}, 태그라인: {tagline}\")\n",
    "        # 게시물 대문 생성\n",
    "        door_title = find_title_data('instagram_post_result.json')\n",
    "        create_post_door(door_title)\n",
    "        \n",
    "        print(\"\\n✅ 게시물 생성 완료! 결과가 insta_post 폴더에 저장되었습니다.\")\n"
   ]
  },
  {
   "cell_type": "code",
   "execution_count": 4,
   "metadata": {},
   "outputs": [
    {
     "name": "stdout",
     "output_type": "stream",
     "text": [
      "[]\n"
     ]
    }
   ],
   "source": [
    "print(recommended_movies)"
   ]
  },
  {
   "cell_type": "code",
   "execution_count": null,
   "metadata": {},
   "outputs": [],
   "source": []
  }
 ],
 "metadata": {
  "kernelspec": {
   "display_name": "middle",
   "language": "python",
   "name": "python3"
  },
  "language_info": {
   "codemirror_mode": {
    "name": "ipython",
    "version": 3
   },
   "file_extension": ".py",
   "mimetype": "text/x-python",
   "name": "python",
   "nbconvert_exporter": "python",
   "pygments_lexer": "ipython3",
   "version": "3.13.2"
  }
 },
 "nbformat": 4,
 "nbformat_minor": 4
}
