{
 "cells": [
  {
   "cell_type": "code",
   "execution_count": 1,
   "metadata": {},
   "outputs": [
    {
     "name": "stderr",
     "output_type": "stream",
     "text": [
      "c:\\Users\\Playdata\\miniconda3\\envs\\pjt\\Lib\\site-packages\\tqdm\\auto.py:21: TqdmWarning: IProgress not found. Please update jupyter and ipywidgets. See https://ipywidgets.readthedocs.io/en/stable/user_install.html\n",
      "  from .autonotebook import tqdm as notebook_tqdm\n"
     ]
    },
    {
     "name": "stdout",
     "output_type": "stream",
     "text": [
      "WARNING:tensorflow:From c:\\Users\\Playdata\\miniconda3\\envs\\pjt\\Lib\\site-packages\\tf_keras\\src\\losses.py:2976: The name tf.losses.sparse_softmax_cross_entropy is deprecated. Please use tf.compat.v1.losses.sparse_softmax_cross_entropy instead.\n",
      "\n"
     ]
    },
    {
     "name": "stderr",
     "output_type": "stream",
     "text": [
      "c:\\Users\\Playdata\\miniconda3\\envs\\pjt\\Lib\\site-packages\\sentence_transformers\\SentenceTransformer.py:195: FutureWarning: The `use_auth_token` argument is deprecated and will be removed in v4 of SentenceTransformers.\n",
      "  warnings.warn(\n"
     ]
    }
   ],
   "source": [
    "import sys\n",
    "sys.path.append(\"custom_utils\")\n",
    "\n",
    "import json\n",
    "from search_model import *\n",
    "from templates import *\n",
    "from instagram_post import *\n",
    "from utils import delete_all_files_in_folder, poster_to_background_images"
   ]
  },
  {
   "cell_type": "code",
   "execution_count": 2,
   "metadata": {},
   "outputs": [
    {
     "name": "stdout",
     "output_type": "stream",
     "text": [
      "\n",
      "[INFO] STEP 1: 사용자 질문 분석 중...\n",
      "[INFO] GPT 응답: ```json\n",
      "{\n",
      "    \"장르\": [\"코미디\", \"드라마\", \"로맨틱코미디\"],\n",
      "    \"분위기\": [\"가벼운\", \"유쾌한\", \"즐거운\"],\n",
      "    \"제외할 키워드\": [\"액션\", \"스릴러\", \"공포\", \"긴장감\", \"어두운\"],\n",
      "    \"핵심 키워드\": []\n",
      "}\n",
      "```\n",
      "\n",
      "[INFO] STEP 2: 영화 검색 진행 중...\n",
      "[INFO] 기존 FAISS 인덱스 로드 중...\n",
      "[INFO] 최종 검색된 영화 개수: 63\n",
      "\n",
      "[INFO] STEP 3: 추천 영화 선택 중...\n",
      "\n",
      "🎬 최종 추천 영화 리스트: ['집에 돌아오면, 언제나 아내가 죽은 척을 하고있다', '스탈린이 죽었다!', '시체가 돌아왔다', '로마의 휴일', '비스틀리', '홈리스', '스프린터', '바빌론']\n",
      "\n",
      "[INFO] STEP 4: 인스타그램 게시물 생성 중...\n",
      "\n",
      "✅ 게시물 생성 완료! 결과가 instagram_post_result.json에 저장되었습니다.\n",
      "\n",
      "📷 STEP 5: 인스타그램 게시물 이미지 찾는 중...\n",
      "✅ 파일 복사 완료: posters_db\\집에 돌아오면, 언제나 아내가 죽은 척을 하고있다_poster.jpg → background_images\\집에 돌아오면, 언제나 아내가 죽은 척을 하고있다_poster.jpg\n",
      "✅ 파일 복사 완료: posters_db\\스탈린이 죽었다!_poster.jpg → background_images\\스탈린이 죽었다!_poster.jpg\n",
      "✅ 파일 복사 완료: posters_db\\시체가 돌아왔다_poster.jpg → background_images\\시체가 돌아왔다_poster.jpg\n",
      "✅ 파일 복사 완료: posters_db\\로마의 휴일_poster.jpg → background_images\\로마의 휴일_poster.jpg\n",
      "✅ 파일 복사 완료: posters_db\\비스틀리_poster.jpg → background_images\\비스틀리_poster.jpg\n",
      "✅ 파일 복사 완료: posters_db\\홈리스_poster.jpg → background_images\\홈리스_poster.jpg\n",
      "✅ 파일 복사 완료: posters_db\\스프린터_poster.jpg → background_images\\스프린터_poster.jpg\n",
      "✅ 파일 복사 완료: posters_db\\바빌론_poster.jpg → background_images\\바빌론_poster.jpg\n",
      "🎉 모든 파일 복사 완료!\n",
      "\n",
      " ✍️ STEP 6: 인스타그램 게시물 이미지 생성 중...\n",
      "✅ 카드뉴스 이미지 저장 완료: insta_post/집에 돌아오면, 언제나 아내가 죽은 척을 하고있다_card_news.jpg\n",
      "🎬 현재 생성 중인 영화: 집에 돌아오면, 언제나 아내가 죽은 척을 하고있다, 태그라인: 매일 다른 죽음으로 시작되는 유쾌한 가족 드라마로, 삶의 소중함을 일깨워주는 작품.\n",
      "✅ 카드뉴스 이미지 저장 완료: insta_post/스탈린이 죽었다!_card_news.jpg\n",
      "🎬 현재 생성 중인 영화: 스탈린이 죽었다!, 태그라인: 권력을 향한 치열한 음모가 펼쳐지는 흥미로운 시대극의 명작.\n",
      "✅ 카드뉴스 이미지 저장 완료: insta_post/시체가 돌아왔다_card_news.jpg\n",
      "🎬 현재 생성 중인 영화: 시체가 돌아왔다, 태그라인: 완벽한 계획 속 시체 도둑의 우스꽝스러운 에피소드가 전개되는 범죄 코미디.\n",
      "✅ 카드뉴스 이미지 저장 완료: insta_post/로마의 휴일_card_news.jpg\n",
      "🎬 현재 생성 중인 영화: 로마의 휴일, 태그라인: 나이트클럽에서 벌어지는 유쾌한 인질극을 통해 풍겨지는 유머와 긴장감의 조화.\n",
      "✅ 카드뉴스 이미지 저장 완료: insta_post/비스틀리_card_news.jpg\n",
      "🎬 현재 생성 중인 영화: 비스틀리, 태그라인: 우정과 꿈을 쫓는 청춘들의 이야기를 판타지로 풀어낸 따뜻한 드라마.\n",
      "✅ 카드뉴스 이미지 저장 완료: insta_post/홈리스_card_news.jpg\n",
      "🎬 현재 생성 중인 영화: 홈리스, 태그라인: 가족의 소중함을 느끼게 하는 현실적인 드라마로, 공감의 여운이 남는 작품.\n",
      "✅ 카드뉴스 이미지 저장 완료: insta_post/스프린터_card_news.jpg\n",
      "🎬 현재 생성 중인 영화: 스프린터, 태그라인: 운동에 대한 열망과 좌절을 그린 스포츠 드라마로, 감동적인 순간들이 가득하다.\n",
      "✅ 카드뉴스 이미지 저장 완료: insta_post/바빌론_card_news.jpg\n",
      "🎬 현재 생성 중인 영화: 바빌론, 태그라인: 할리우드의 화려함과 잔인함을 동시에 보여주는 강렬한 드라마의 정수.\n",
      "\n",
      "✅ 게시물 생성 완료! 결과가 insta_post 폴더에 저장되었습니다.\n"
     ]
    }
   ],
   "source": [
    "# 이미지 폴더 정리\n",
    "delete_all_files_in_folder(\"background_images\")\n",
    "delete_all_files_in_folder(\"insta_post\")\n",
    "\n",
    "# ✅ 통합 파이프라인 실행\n",
    "if __name__ == \"__main__\":\n",
    "    user_question = input(\"🎬 영화 추천 질문을 입력하세요: \")\n",
    "    max_results = int(input(\"🔢 추천받을 영화 개수를 입력하세요 (예: 5): \"))\n",
    "\n",
    "    print(\"\\n[INFO] STEP 1: 사용자 질문 분석 중...\")\n",
    "    expanded_keywords = analyze_question_with_llm(user_question)\n",
    "    \n",
    "    print(\"\\n[INFO] STEP 2: 영화 검색 진행 중...\")\n",
    "    search_results = search_movies_with_keywords(expanded_keywords)\n",
    "\n",
    "    print(\"\\n[INFO] STEP 3: 추천 영화 선택 중...\")\n",
    "    recommended_movies = generate_recommendations(user_question, search_results, max_results=max_results)\n",
    "\n",
    "    if not recommended_movies:\n",
    "        print(\"\\n❌ 추천할 영화가 없습니다.\")\n",
    "    else:\n",
    "        print(\"\\n🎬 최종 추천 영화 리스트:\", recommended_movies)\n",
    "\n",
    "        print(\"\\n[INFO] STEP 4: 인스타그램 게시물 생성 중...\")\n",
    "        post_result = generate_instagram_post(user_question, recommended_movies)\n",
    "\n",
    "        # 결과 저장\n",
    "        with open(\"instagram_post_result.json\", \"w\", encoding=\"utf-8\") as f:\n",
    "            json.dump(post_result, f, ensure_ascii=False, indent=4)\n",
    "\n",
    "        print(\"\\n✅ 게시물 생성 완료! 결과가 instagram_post_result.json에 저장되었습니다.\")\n",
    "\n",
    "        print(\"\\n📷 STEP 5: 인스타그램 게시물 이미지 찾는 중...\")\n",
    "        poster_to_background_images(recommended_movies)\n",
    "\n",
    "        print(\"\\n ✍️ STEP 6: 인스타그램 게시물 이미지 생성 중...\")\n",
    "        movie_post_list = find_review_data('instagram_post_result.json')\n",
    "        # 카드뉴스 이미지 생성\n",
    "        for movie_name, tagline in movie_post_list:\n",
    "            insta_post_1(movie_name, tagline)\n",
    "            print(f\"🎬 현재 생성 중인 영화: {movie_name}, 태그라인: {tagline}\")\n",
    "        # 게시물 대문 생성\n",
    "        door_title = find_title_data('instagram_post_result.json')\n",
    "        create_post_door(door_title)\n",
    "        \n",
    "        print(\"\\n✅ 게시물 생성 완료! 결과가 insta_post 폴더에 저장되었습니다.\")\n"
   ]
  }
 ],
 "metadata": {
  "kernelspec": {
   "display_name": "pjt",
   "language": "python",
   "name": "python3"
  },
  "language_info": {
   "codemirror_mode": {
    "name": "ipython",
    "version": 3
   },
   "file_extension": ".py",
   "mimetype": "text/x-python",
   "name": "python",
   "nbconvert_exporter": "python",
   "pygments_lexer": "ipython3",
   "version": "3.12.8"
  }
 },
 "nbformat": 4,
 "nbformat_minor": 4
}
