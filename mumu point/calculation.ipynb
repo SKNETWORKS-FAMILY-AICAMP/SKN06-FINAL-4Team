{
 "cells": [
  {
   "cell_type": "code",
   "execution_count": 2,
   "metadata": {},
   "outputs": [
    {
     "name": "stdout",
     "output_type": "stream",
     "text": [
      "결과가 저장되었습니다: C:\\Users\\Playdata\\Desktop\\Final\\model\\calculation\\mumuscore550.xlsx\n"
     ]
    }
   ],
   "source": [
    "import os\n",
    "import pandas as pd\n",
    "\n",
    "# 계산에 사용할 디렉토리 경로\n",
    "calc_dir = r\"C:\\Users\\Playdata\\Desktop\\Final\\model\\calculation\"\n",
    "\n",
    "# 두 파일의 경로 설정 (파일명은 실제 파일명에 맞게 수정)\n",
    "pred_file = os.path.join(calc_dir, \"predicted_reviews550.xlsx\")\n",
    "emotion_file = os.path.join(calc_dir, \"emotion_analysis550.xlsx\")\n",
    "\n",
    "# 첫 행이 헤더(영화 제목)인 상태로 엑셀 파일 읽기\n",
    "df_pred = pd.read_excel(pred_file, header=0)\n",
    "df_emotion = pd.read_excel(emotion_file, header=0)\n",
    "\n",
    "results = []\n",
    "\n",
    "# predicted_reviews 파일의 각 열은 \"{영화제목}_pred\" 형식이라고 가정합니다.\n",
    "for col in df_pred.columns:\n",
    "    if isinstance(col, str) and col.endswith(\"_pred\"):  # 열 이름이 문자열일 때만 처리\n",
    "    # if col.endswith(\"_pred\"):\n",
    "        # 영화 제목 추출 (예: \"MovieA_pred\" → \"MovieA\")\n",
    "        movie = col[:-len(\"_pred\")]\n",
    "        # emotion 파일에서는 해당 영화의 열 이름이 \"{영화제목}_emotion_point\"여야 합니다.\n",
    "        emotion_col = movie + \"_emotion_point\"\n",
    "        if emotion_col in df_emotion.columns:\n",
    "            # 엑셀 파일의 첫 행은 헤더이므로, 두 번째 행부터 151번째 행까지의 데이터는\n",
    "            # DataFrame에서는 인덱스 0부터 149까지에 해당합니다.\n",
    "            series_pred = df_pred[col].iloc[0:150]\n",
    "            series_emotion = df_emotion[emotion_col].iloc[0:150]\n",
    "            \n",
    "            # 숫자로 변환 (숫자가 아닌 값은 NaN으로 처리) 후, NaN 제거\n",
    "            series_pred = pd.to_numeric(series_pred, errors='coerce')\n",
    "            series_emotion = pd.to_numeric(series_emotion, errors='coerce')\n",
    "            valid = series_pred.notna() & series_emotion.notna()\n",
    "            series_pred = series_pred[valid]\n",
    "            series_emotion = series_emotion[valid]\n",
    "            \n",
    "            if len(series_pred) == 0:\n",
    "                continue\n",
    "            \n",
    "            # 행별 곱 계산 후, 모든 곱의 평균 계산\n",
    "            product = series_pred * series_emotion\n",
    "            avg_value = product.mean()\n",
    "            \n",
    "            # 선형 변환: [-1, 1] → [0, 10]\n",
    "            transformed_score = round(((avg_value + 1) / 2) * 10, 1)\n",
    "            \n",
    "            results.append({\"Movie\": movie, \"Score\": transformed_score})\n",
    "        else:\n",
    "            print(f\"'{movie}'에 해당하는 emotion_point 열이 없습니다.\")\n",
    "            \n",
    "# 결과를 DataFrame으로 정리한 후 엑셀 파일로 저장\n",
    "result_df = pd.DataFrame(results)\n",
    "output_path = os.path.join(calc_dir, \"mumuscore550.xlsx\")\n",
    "result_df.to_excel(output_path, index=False)\n",
    "\n",
    "print(f\"결과가 저장되었습니다: {output_path}\")\n"
   ]
  },
  {
   "cell_type": "code",
   "execution_count": null,
   "metadata": {},
   "outputs": [],
   "source": []
  }
 ],
 "metadata": {
  "kernelspec": {
   "display_name": "Python 3",
   "language": "python",
   "name": "python3"
  },
  "language_info": {
   "codemirror_mode": {
    "name": "ipython",
    "version": 3
   },
   "file_extension": ".py",
   "mimetype": "text/x-python",
   "name": "python",
   "nbconvert_exporter": "python",
   "pygments_lexer": "ipython3",
   "version": "3.12.6"
  }
 },
 "nbformat": 4,
 "nbformat_minor": 2
}
